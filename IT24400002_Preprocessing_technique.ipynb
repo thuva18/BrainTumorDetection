{
 "cells": [
  {
   "cell_type": "code",
   "execution_count": 1,
   "id": "f00dd1f5-5067-4c89-9db9-c7c898e1bc51",
   "metadata": {},
   "outputs": [
    {
     "name": "stdout",
     "output_type": "stream",
     "text": [
      "Requirement already satisfied: opencv-python in c:\\users\\user\\appdata\\local\\programs\\python\\python313\\lib\\site-packages (4.12.0.88)\n",
      "Requirement already satisfied: numpy<2.3.0,>=2 in c:\\users\\user\\appdata\\local\\programs\\python\\python313\\lib\\site-packages (from opencv-python) (2.2.0)\n",
      "Note: you may need to restart the kernel to use updated packages.\n"
     ]
    },
    {
     "name": "stderr",
     "output_type": "stream",
     "text": [
      "\n",
      "[notice] A new release of pip is available: 24.3.1 -> 25.2\n",
      "[notice] To update, run: python.exe -m pip install --upgrade pip\n"
     ]
    }
   ],
   "source": [
    "pip install opencv-python"
   ]
  },
  {
   "cell_type": "code",
   "execution_count": 2,
   "id": "c3a255f9-a2a4-4f00-ae19-07d4d15f75aa",
   "metadata": {},
   "outputs": [
    {
     "name": "stdout",
     "output_type": "stream",
     "text": [
      "Requirement already satisfied: tqdm in c:\\users\\user\\appdata\\local\\programs\\python\\python313\\lib\\site-packages (4.67.1)\n",
      "Requirement already satisfied: colorama in c:\\users\\user\\appdata\\local\\programs\\python\\python313\\lib\\site-packages (from tqdm) (0.4.6)\n",
      "Note: you may need to restart the kernel to use updated packages.\n"
     ]
    },
    {
     "name": "stderr",
     "output_type": "stream",
     "text": [
      "\n",
      "[notice] A new release of pip is available: 24.3.1 -> 25.2\n",
      "[notice] To update, run: python.exe -m pip install --upgrade pip\n"
     ]
    }
   ],
   "source": [
    "pip install tqdm"
   ]
  },
  {
   "cell_type": "code",
   "execution_count": 3,
   "id": "90446e3d-d9ec-4285-afc4-bf25d3b4d544",
   "metadata": {},
   "outputs": [
    {
     "name": "stdout",
     "output_type": "stream",
     "text": [
      "Loading all data...\n",
      "Loading glioma_tumor (Training):\n"
     ]
    },
    {
     "name": "stderr",
     "output_type": "stream",
     "text": [
      "100%|███████████████████████████████████████████████████████████████████████████████| 826/826 [00:00<00:00, 880.50it/s]\n"
     ]
    },
    {
     "name": "stdout",
     "output_type": "stream",
     "text": [
      "Loading no_tumor (Training):\n"
     ]
    },
    {
     "name": "stderr",
     "output_type": "stream",
     "text": [
      "100%|███████████████████████████████████████████████████████████████████████████████| 395/395 [00:00<00:00, 714.56it/s]\n"
     ]
    },
    {
     "name": "stdout",
     "output_type": "stream",
     "text": [
      "Loading meningioma_tumor (Training):\n"
     ]
    },
    {
     "name": "stderr",
     "output_type": "stream",
     "text": [
      "100%|███████████████████████████████████████████████████████████████████████████████| 822/822 [00:00<00:00, 873.82it/s]\n"
     ]
    },
    {
     "name": "stdout",
     "output_type": "stream",
     "text": [
      "Loading pituitary_tumor (Training):\n"
     ]
    },
    {
     "name": "stderr",
     "output_type": "stream",
     "text": [
      "100%|███████████████████████████████████████████████████████████████████████████████| 827/827 [00:01<00:00, 795.70it/s]\n"
     ]
    },
    {
     "name": "stdout",
     "output_type": "stream",
     "text": [
      "Loading glioma_tumor (Testing):\n"
     ]
    },
    {
     "name": "stderr",
     "output_type": "stream",
     "text": [
      "100%|███████████████████████████████████████████████████████████████████████████████| 100/100 [00:00<00:00, 769.50it/s]\n"
     ]
    },
    {
     "name": "stdout",
     "output_type": "stream",
     "text": [
      "Loading no_tumor (Testing):\n"
     ]
    },
    {
     "name": "stderr",
     "output_type": "stream",
     "text": [
      "100%|██████████████████████████████████████████████████████████████████████████████| 105/105 [00:00<00:00, 1394.10it/s]\n"
     ]
    },
    {
     "name": "stdout",
     "output_type": "stream",
     "text": [
      "Loading meningioma_tumor (Testing):\n"
     ]
    },
    {
     "name": "stderr",
     "output_type": "stream",
     "text": [
      "100%|███████████████████████████████████████████████████████████████████████████████| 115/115 [00:00<00:00, 934.80it/s]\n"
     ]
    },
    {
     "name": "stdout",
     "output_type": "stream",
     "text": [
      "Loading pituitary_tumor (Testing):\n"
     ]
    },
    {
     "name": "stderr",
     "output_type": "stream",
     "text": [
      "100%|█████████████████████████████████████████████████████████████████████████████████| 74/74 [00:00<00:00, 323.00it/s]\n"
     ]
    },
    {
     "name": "stdout",
     "output_type": "stream",
     "text": [
      "Converting to NumPy arrays...\n",
      "Raw data shape: (3264, 256, 256, 3), Labels shape: (3264,)\n",
      "Preprocessing all images...\n"
     ]
    },
    {
     "name": "stderr",
     "output_type": "stream",
     "text": [
      "100%|████████████████████████████████████████████████████████████████████████████| 3264/3264 [00:01<00:00, 1930.33it/s]\n"
     ]
    },
    {
     "name": "stdout",
     "output_type": "stream",
     "text": [
      "Preprocessed data shape: (3264, 256, 256, 3), Labels shape: (3264,)\n",
      "Preprocessing complete. Data is ready for model training.\n"
     ]
    }
   ],
   "source": [
    "# Import necessary libraries\n",
    "import os\n",
    "import cv2  # OpenCV for image processing\n",
    "import numpy as np\n",
    "from tqdm import tqdm  # For progress bars\n",
    "\n",
    "# Define the path to the already downloaded dataset\n",
    "DATASET_PATH = 'C:/Users/User/Downloads/archive'  # Adjust to your local dataset path\n",
    "\n",
    "# Define categories based on the dataset\n",
    "CATEGORIES = ['glioma_tumor', 'no_tumor', 'meningioma_tumor', 'pituitary_tumor']\n",
    "\n",
    "# Define target image size (matching the main notebook)\n",
    "IMAGE_SIZE = (256, 256)\n",
    "\n",
    "# Function to load images from a directory (Training or Testing) with progress bar\n",
    "def load_images_from_folder(base_dir, categories, subfolder):\n",
    "    images = []\n",
    "    labels = []\n",
    "    for category in categories:\n",
    "        folder = os.path.join(base_dir, subfolder, category)\n",
    "        print(f\"Loading {category} ({subfolder}):\")\n",
    "        if not os.path.exists(folder):\n",
    "            print(f\"Error: Directory {folder} does not exist.\")\n",
    "            continue\n",
    "        for filename in tqdm(os.listdir(folder)):\n",
    "            if filename.endswith(('.jpg', '.jpeg', '.png')):  # Check for image files\n",
    "                img_path = os.path.join(folder, filename)\n",
    "                img = cv2.imread(img_path)  # Load image using OpenCV\n",
    "                if img is not None:\n",
    "                    # Resize image to ensure consistent shape (256x256x3)\n",
    "                    img = cv2.resize(img, IMAGE_SIZE)\n",
    "                    images.append(img)\n",
    "                    labels.append(category)\n",
    "                else:\n",
    "                    print(f\"Warning: Could not load image {img_path}\")\n",
    "    return images, labels\n",
    "\n",
    "# Preprocessing function with filtering\n",
    "def preprocess_image(img, target_size=(256, 256), apply_filter=True):\n",
    "    # Image is already resized to target_size during loading, but ensure consistency\n",
    "    img = cv2.resize(img, target_size)\n",
    "    \n",
    "    # Apply median filter for noise reduction (on color image)\n",
    "    if apply_filter:\n",
    "        img = cv2.medianBlur(img, 3)  # Kernel size 3 for mild filtering; use 5 for stronger\n",
    "    \n",
    "    # Normalize pixel values to [0, 1]\n",
    "    img = img.astype('float32') / 255.0\n",
    "    \n",
    "    return img\n",
    "\n",
    "# Load all data (combining Training and Testing as in the main notebook)\n",
    "print(\"Loading all data...\")\n",
    "X = []\n",
    "y = []\n",
    "\n",
    "# Load from Training\n",
    "train_images, train_labels = load_images_from_folder(DATASET_PATH, CATEGORIES, 'Training')\n",
    "X.extend(train_images)\n",
    "y.extend(train_labels)\n",
    "\n",
    "# Load from Testing\n",
    "test_images, test_labels = load_images_from_folder(DATASET_PATH, CATEGORIES, 'Testing')\n",
    "X.extend(test_images)\n",
    "y.extend(test_labels)\n",
    "\n",
    "# Convert to NumPy arrays after ensuring consistent shapes\n",
    "print(\"Converting to NumPy arrays...\")\n",
    "X = np.array(X)\n",
    "y = np.array(y)\n",
    "\n",
    "# Verify shapes before preprocessing\n",
    "print(f\"Raw data shape: {X.shape}, Labels shape: {y.shape}\")\n",
    "\n",
    "# Apply preprocessing and filtering to all images\n",
    "print(\"Preprocessing all images...\")\n",
    "preprocessed_X = np.array([preprocess_image(img) for img in tqdm(X)])\n",
    "\n",
    "# Optional: Balance classes by undersampling majority classes\n",
    "def balance_classes(images, labels, target_size=500):  # Target size ~min class size (no_tumor)\n",
    "    unique_labels = np.unique(labels)\n",
    "    balanced_images = []\n",
    "    balanced_labels = []\n",
    "    for lbl in unique_labels:\n",
    "        idx = np.where(labels == lbl)[0]\n",
    "        if len(idx) > target_size:\n",
    "            # Randomly sample to target_size\n",
    "            sampled_idx = np.random.choice(idx, target_size, replace=False)\n",
    "        else:\n",
    "            sampled_idx = idx\n",
    "        balanced_images.extend(images[sampled_idx])\n",
    "        balanced_labels.extend(labels[sampled_idx])\n",
    "    return np.array(balanced_images), np.array(balanced_labels)\n",
    "\n",
    "# Uncomment the following line to apply class balancing if needed\n",
    "# preprocessed_X, y = balance_classes(preprocessed_X, y, target_size=500)\n",
    "\n",
    "# Print shapes to verify\n",
    "print(f\"Preprocessed data shape: {preprocessed_X.shape}, Labels shape: {y.shape}\")\n",
    "\n",
    "# Optional: Save preprocessed data to avoid reloading\n",
    "np.save('preprocessed_X.npy', preprocessed_X)\n",
    "np.save('y.npy', y)\n",
    "\n",
    "print(\"Preprocessing complete. Data is ready for model training.\")"
   ]
  },
  {
   "cell_type": "code",
   "execution_count": null,
   "id": "f8bf1f43-1e63-4b70-b2f2-330b5faa485c",
   "metadata": {},
   "outputs": [],
   "source": []
  }
 ],
 "metadata": {
  "kernelspec": {
   "display_name": "Python 3 (ipykernel)",
   "language": "python",
   "name": "python3"
  },
  "language_info": {
   "codemirror_mode": {
    "name": "ipython",
    "version": 3
   },
   "file_extension": ".py",
   "mimetype": "text/x-python",
   "name": "python",
   "nbconvert_exporter": "python",
   "pygments_lexer": "ipython3",
   "version": "3.13.1"
  }
 },
 "nbformat": 4,
 "nbformat_minor": 5
}
